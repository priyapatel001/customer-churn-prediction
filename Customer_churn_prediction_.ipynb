{
  "cells": [
    {
      "cell_type": "markdown",
      "metadata": {
        "id": "NoTX7f9Cht1r"
      },
      "source": [
        "1. Importing the dependencies"
      ]
    },
    {
      "cell_type": "code",
      "execution_count": null,
      "metadata": {
        "id": "E1li3IJHgEam"
      },
      "outputs": [
        {
          "ename": "",
          "evalue": "",
          "output_type": "error",
          "traceback": [
            "\u001b[1;31mRunning cells with 'Python 3.10.10' requires the ipykernel package.\n",
            "\u001b[1;31m<a href='command:jupyter.createPythonEnvAndSelectController'>Create a Python Environment</a> with the required packages.\n",
            "\u001b[1;31mOr install 'ipykernel' using the command: 'c:/Users/priya/AppData/Local/Programs/Python/Python310/python.exe -m pip install ipykernel -U --user --force-reinstall'"
          ]
        }
      ],
      "source": [
        "import numpy as np\n",
        "import pandas as pd\n",
        "import matplotlib.pyplot as plt\n",
        "import seaborn as sns\n",
        "from sklearn.preprocessing import LabelEncoder\n",
        "from imblearn.over_sampling import SMOTE\n",
        "from sklearn.model_selection import train_test_split, cross_val_score\n",
        "from sklearn.tree import DecisionTreeClassifier\n",
        "from sklearn.ensemble import RandomForestClassifier\n",
        "from xgboost import XGBClassifier\n",
        "from sklearn.metrics import accuracy_score, confusion_matrix, classification_report\n",
        "import pickle"
      ]
    },
    {
      "cell_type": "markdown",
      "metadata": {
        "id": "0PovC1GGiICJ"
      },
      "source": [
        "2. Data Loading and Understanding"
      ]
    },
    {
      "cell_type": "code",
      "execution_count": null,
      "metadata": {
        "id": "XAAArA_4i04Q"
      },
      "outputs": [],
      "source": [
        "# load teh csv data to a pandas dataframe\n",
        "df = pd.read_csv(\"/content/WA_Fn-UseC_-Telco-Customer-Churn.csv\")"
      ]
    },
    {
      "cell_type": "code",
      "execution_count": null,
      "metadata": {
        "colab": {
          "base_uri": "https://localhost:8080/"
        },
        "id": "QoB8kdhsjBDe",
        "outputId": "c5901942-8705-40b9-c2ec-3f20fcb4eae4"
      },
      "outputs": [],
      "source": [
        "df.shape"
      ]
    },
    {
      "cell_type": "code",
      "execution_count": null,
      "metadata": {
        "colab": {
          "base_uri": "https://localhost:8080/",
          "height": 342
        },
        "id": "GzE6dzeVjD0Z",
        "outputId": "c286ccd2-a63f-415c-91eb-a4f6fdcbb1cd"
      },
      "outputs": [],
      "source": [
        "df.head()"
      ]
    },
    {
      "cell_type": "code",
      "execution_count": null,
      "metadata": {
        "id": "COSWGcGsjDiE"
      },
      "outputs": [],
      "source": [
        "pd.set_option(\"display.max_columns\", None)"
      ]
    },
    {
      "cell_type": "code",
      "execution_count": null,
      "metadata": {
        "colab": {
          "base_uri": "https://localhost:8080/",
          "height": 167
        },
        "id": "Od9b1xUTjLJH",
        "outputId": "0c98f20a-21c8-42ae-e639-82b5119db9b6"
      },
      "outputs": [],
      "source": [
        "df.head(2)"
      ]
    },
    {
      "cell_type": "code",
      "execution_count": null,
      "metadata": {
        "colab": {
          "base_uri": "https://localhost:8080/"
        },
        "id": "Z_ZyrTFjjO84",
        "outputId": "8bd8b1cb-5594-44af-d92e-5fc9fa458f6b"
      },
      "outputs": [],
      "source": [
        "df.info()"
      ]
    },
    {
      "cell_type": "code",
      "execution_count": null,
      "metadata": {
        "id": "cTNgvj_1jTR4"
      },
      "outputs": [],
      "source": [
        "# dropping customerID column as this is not required for modelling\n",
        "df = df.drop(columns=[\"customerID\"])"
      ]
    },
    {
      "cell_type": "code",
      "execution_count": null,
      "metadata": {
        "colab": {
          "base_uri": "https://localhost:8080/",
          "height": 149
        },
        "id": "iri8CI3TjW3e",
        "outputId": "45163386-9578-403a-aaf2-f4ed1cef117c"
      },
      "outputs": [],
      "source": [
        "df.head(2)"
      ]
    },
    {
      "cell_type": "code",
      "execution_count": null,
      "metadata": {
        "colab": {
          "base_uri": "https://localhost:8080/"
        },
        "id": "6g1ydIXGjapd",
        "outputId": "8cb26a1a-ba10-483b-b3ae-3831c07eff46"
      },
      "outputs": [],
      "source": [
        "df.columns"
      ]
    },
    {
      "cell_type": "code",
      "execution_count": null,
      "metadata": {
        "colab": {
          "base_uri": "https://localhost:8080/"
        },
        "id": "D3ICml-hjeZV",
        "outputId": "3afd80e8-c32e-452b-e865-5dcbc056a890"
      },
      "outputs": [],
      "source": [
        "print(df[\"gender\"].unique())"
      ]
    },
    {
      "cell_type": "code",
      "execution_count": null,
      "metadata": {
        "colab": {
          "base_uri": "https://localhost:8080/"
        },
        "id": "q2mpMSSHjeWF",
        "outputId": "4aec0cde-2dee-4d24-b33e-8a4a506aa638"
      },
      "outputs": [],
      "source": [
        "print(df[\"SeniorCitizen\"].unique())"
      ]
    },
    {
      "cell_type": "code",
      "execution_count": null,
      "metadata": {
        "colab": {
          "base_uri": "https://localhost:8080/"
        },
        "id": "M-r9bV4mjeTa",
        "outputId": "e9da8a09-d615-43c8-969d-afe91e348f32"
      },
      "outputs": [],
      "source": [
        "# printing the unique values in all the columns\n",
        "\n",
        "numerical_features_list = [\"tenure\", \"MonthlyCharges\", \"TotalCharges\"]\n",
        "\n",
        "for col in df.columns:\n",
        "  if col not in numerical_features_list:\n",
        "    print(col, df[col].unique())\n",
        "    print(\"-\"*50)"
      ]
    },
    {
      "cell_type": "code",
      "execution_count": null,
      "metadata": {
        "colab": {
          "base_uri": "https://localhost:8080/"
        },
        "id": "UZv1vgq7jnHc",
        "outputId": "36da92a5-e522-4947-9788-8b43e104cb19"
      },
      "outputs": [],
      "source": [
        "print(df.isnull().sum())"
      ]
    },
    {
      "cell_type": "code",
      "execution_count": null,
      "metadata": {
        "id": "C0xWOZA_jm5Z"
      },
      "outputs": [],
      "source": [
        "#df[\"TotalCharges\"] = df[\"TotalCharges\"].astype(float)"
      ]
    },
    {
      "cell_type": "code",
      "execution_count": null,
      "metadata": {
        "colab": {
          "base_uri": "https://localhost:8080/",
          "height": 570
        },
        "id": "hDlVm5Ekjm0W",
        "outputId": "3befd3f1-e239-4a7b-8fb4-123040f753cc"
      },
      "outputs": [],
      "source": [
        "df[df[\"TotalCharges\"]==\" \"]"
      ]
    },
    {
      "cell_type": "code",
      "execution_count": null,
      "metadata": {
        "colab": {
          "base_uri": "https://localhost:8080/"
        },
        "id": "pHD7BbYtjmrU",
        "outputId": "fb278175-3701-4d04-9810-01da091de933"
      },
      "outputs": [],
      "source": [
        "len(df[df[\"TotalCharges\"]==\" \"])"
      ]
    },
    {
      "cell_type": "code",
      "execution_count": null,
      "metadata": {
        "id": "RdJR7Rv0j2UR"
      },
      "outputs": [],
      "source": [
        "df[\"TotalCharges\"] = df[\"TotalCharges\"].replace({\" \": \"0.0\"})"
      ]
    },
    {
      "cell_type": "code",
      "execution_count": null,
      "metadata": {
        "id": "HK555VVkj2IE"
      },
      "outputs": [],
      "source": [
        "df[\"TotalCharges\"] = df[\"TotalCharges\"].astype(float)"
      ]
    },
    {
      "cell_type": "code",
      "execution_count": null,
      "metadata": {
        "colab": {
          "base_uri": "https://localhost:8080/"
        },
        "id": "oDcizVK5j16e",
        "outputId": "8a6f4a95-484e-4823-ead5-9dedac683695"
      },
      "outputs": [],
      "source": [
        "df.info()"
      ]
    },
    {
      "cell_type": "code",
      "execution_count": null,
      "metadata": {
        "colab": {
          "base_uri": "https://localhost:8080/"
        },
        "id": "3dWbJCXskCZj",
        "outputId": "191c6685-b264-43ba-ff8f-bc5d08c5aab3"
      },
      "outputs": [],
      "source": [
        "# checking the class distribution of target column\n",
        "print(df[\"Churn\"].value_counts())"
      ]
    },
    {
      "cell_type": "markdown",
      "metadata": {
        "id": "dTNrdntbkMvm"
      },
      "source": [
        "Insights:\n",
        "\n",
        "Customer ID removed as it is not required for modelling\n",
        "No mmissing values in the dataset\n",
        "Missing values in the TotalCharges column were replaced with 0\n",
        "Class imbalance identified in the target"
      ]
    },
    {
      "cell_type": "markdown",
      "metadata": {
        "id": "b2DlVBnPkNvt"
      },
      "source": [
        "**3. Exploratory Data Analysis (EDA)**\n",
        "\n"
      ]
    },
    {
      "cell_type": "code",
      "execution_count": null,
      "metadata": {
        "colab": {
          "base_uri": "https://localhost:8080/"
        },
        "id": "OpIrYMTUkCWY",
        "outputId": "51a87f4c-b42b-438e-dae1-567fdd8dd2dc"
      },
      "outputs": [],
      "source": [
        "df.shape"
      ]
    },
    {
      "cell_type": "code",
      "execution_count": null,
      "metadata": {
        "colab": {
          "base_uri": "https://localhost:8080/"
        },
        "id": "0aRB_9n3kCUG",
        "outputId": "83c0a956-d420-448d-83c0-346a9806af11"
      },
      "outputs": [],
      "source": [
        "df.columns"
      ]
    },
    {
      "cell_type": "code",
      "execution_count": null,
      "metadata": {
        "colab": {
          "base_uri": "https://localhost:8080/",
          "height": 149
        },
        "id": "2V5DVmpzkCRf",
        "outputId": "249a5dba-60e0-4c13-ed13-e86f20de492d"
      },
      "outputs": [],
      "source": [
        "df.head(2)"
      ]
    },
    {
      "cell_type": "code",
      "execution_count": null,
      "metadata": {
        "colab": {
          "base_uri": "https://localhost:8080/",
          "height": 300
        },
        "id": "mzgwiVs9kCPB",
        "outputId": "83c63aa2-6ce7-44c3-feb3-3bd422e23649"
      },
      "outputs": [],
      "source": [
        "df.describe()"
      ]
    },
    {
      "cell_type": "markdown",
      "metadata": {
        "id": "nGbJ0tl-kjaT"
      },
      "source": [
        "Numerical Features - Analysis"
      ]
    },
    {
      "cell_type": "markdown",
      "metadata": {
        "id": "ghgPakbSkkgJ"
      },
      "source": [
        "Understand the distribution of teh numerical features\n"
      ]
    },
    {
      "cell_type": "code",
      "execution_count": null,
      "metadata": {
        "id": "RXnMRABdkCMV"
      },
      "outputs": [],
      "source": [
        "def plot_histogram(df, column_name):\n",
        "\n",
        "  plt.figure(figsize=(5, 3))\n",
        "  sns.histplot(df[column_name], kde=True)\n",
        "  plt.title(f\"Distribution of {column_name}\")\n",
        "\n",
        "  # calculate the mean and median values for the columns\n",
        "  col_mean = df[column_name].mean()\n",
        "  col_median = df[column_name].median()\n",
        "\n",
        "  # add vertical lines for mean and median\n",
        "  plt.axvline(col_mean, color=\"red\", linestyle=\"--\", label=\"Mean\")\n",
        "  plt.axvline(col_median, color=\"green\", linestyle=\"-\", label=\"Median\")\n",
        "\n",
        "  plt.legend()\n",
        "\n",
        "  plt.show()"
      ]
    },
    {
      "cell_type": "code",
      "execution_count": null,
      "metadata": {
        "colab": {
          "base_uri": "https://localhost:8080/",
          "height": 333
        },
        "id": "bspKjXrDkg-9",
        "outputId": "9c3fda10-c891-49cf-f640-162f60a35f81"
      },
      "outputs": [],
      "source": [
        "plot_histogram(df, \"tenure\")"
      ]
    },
    {
      "cell_type": "code",
      "execution_count": null,
      "metadata": {
        "colab": {
          "base_uri": "https://localhost:8080/",
          "height": 333
        },
        "id": "5ID2QvtbkgzX",
        "outputId": "73e4938c-1bad-40f8-d300-49b7451b1ab0"
      },
      "outputs": [],
      "source": [
        "plot_histogram(df, \"MonthlyCharges\")"
      ]
    },
    {
      "cell_type": "code",
      "execution_count": null,
      "metadata": {
        "colab": {
          "base_uri": "https://localhost:8080/",
          "height": 333
        },
        "id": "UtbmuArykgpv",
        "outputId": "11293c74-9261-4ac8-b3b7-da3ceeeb14ac"
      },
      "outputs": [],
      "source": [
        "plot_histogram(df, \"TotalCharges\")"
      ]
    },
    {
      "cell_type": "markdown",
      "metadata": {
        "id": "g8ONZSfglH3m"
      },
      "source": [
        "\n",
        "Box plot for numerical features\n",
        "\n",
        "\n"
      ]
    },
    {
      "cell_type": "code",
      "execution_count": null,
      "metadata": {
        "id": "t8Nc2kDikgbX"
      },
      "outputs": [],
      "source": [
        "def plot_boxplot(df, column_name):\n",
        "\n",
        "  plt.figure(figsize=(5, 3))\n",
        "  sns.boxplot(y=df[column_name])\n",
        "  plt.title(f\"Box Plot of {column_name}\")\n",
        "  plt.ylabel(column_name)\n",
        "  plt.show"
      ]
    },
    {
      "cell_type": "code",
      "execution_count": null,
      "metadata": {
        "colab": {
          "base_uri": "https://localhost:8080/",
          "height": 295
        },
        "id": "PFVei-NalNgY",
        "outputId": "b88052ac-9eb4-43d5-92e3-eea0f7bbd85b"
      },
      "outputs": [],
      "source": [
        "plot_boxplot(df, \"tenure\")"
      ]
    },
    {
      "cell_type": "code",
      "execution_count": null,
      "metadata": {
        "colab": {
          "base_uri": "https://localhost:8080/",
          "height": 295
        },
        "id": "J2xd7jwvlNVd",
        "outputId": "44dddc69-65f9-434a-d87f-6a0d59386e99"
      },
      "outputs": [],
      "source": [
        "plot_boxplot(df, \"MonthlyCharges\")"
      ]
    },
    {
      "cell_type": "code",
      "execution_count": null,
      "metadata": {
        "colab": {
          "base_uri": "https://localhost:8080/",
          "height": 295
        },
        "id": "FdffGVPBlNKY",
        "outputId": "5805b16b-e6d2-4b2c-fc31-876b41fd5926"
      },
      "outputs": [],
      "source": [
        "plot_boxplot(df, \"TotalCharges\")"
      ]
    },
    {
      "cell_type": "markdown",
      "metadata": {
        "id": "k75YS1A_lb5J"
      },
      "source": [
        "\n",
        "Correlation Heatmap for numerical columns"
      ]
    },
    {
      "cell_type": "code",
      "execution_count": null,
      "metadata": {
        "colab": {
          "base_uri": "https://localhost:8080/",
          "height": 391
        },
        "id": "VHnHHpDrlZNE",
        "outputId": "44a04e12-7e69-4777-b04f-b01572428e8d"
      },
      "outputs": [],
      "source": [
        "# correlation matrix - heatmap\n",
        "plt.figure(figsize=(8, 4))\n",
        "sns.heatmap(df[[\"tenure\", \"MonthlyCharges\", \"TotalCharges\"]].corr(), annot=True, cmap=\"coolwarm\", fmt=\".2f\")\n",
        "plt.title(\"Correlation Heatmap\")\n",
        "plt.show()"
      ]
    },
    {
      "cell_type": "markdown",
      "metadata": {
        "id": "0NVeBp0cljpL"
      },
      "source": [
        "Categorical features - Analysis"
      ]
    },
    {
      "cell_type": "code",
      "execution_count": null,
      "metadata": {
        "colab": {
          "base_uri": "https://localhost:8080/"
        },
        "id": "Ulkk6biWlds4",
        "outputId": "bb471a7f-dad9-4906-f3f3-9d059db9d93e"
      },
      "outputs": [],
      "source": [
        "df.columns"
      ]
    },
    {
      "cell_type": "code",
      "execution_count": null,
      "metadata": {
        "colab": {
          "base_uri": "https://localhost:8080/"
        },
        "id": "WYYK-ZOEldmX",
        "outputId": "35955674-b189-4312-8521-28ba6c3c75d3"
      },
      "outputs": [],
      "source": [
        "df.info()"
      ]
    },
    {
      "cell_type": "markdown",
      "metadata": {
        "id": "e3e6b-adlszR"
      },
      "source": [
        "Countplot for categorical columns"
      ]
    },
    {
      "cell_type": "code",
      "execution_count": null,
      "metadata": {
        "colab": {
          "base_uri": "https://localhost:8080/",
          "height": 1000
        },
        "id": "k6mXxG54ldc9",
        "outputId": "6c9ff595-dc75-4ccd-e227-00aca9204c9d"
      },
      "outputs": [],
      "source": [
        "object_cols = df.select_dtypes(include=\"object\").columns.to_list()\n",
        "\n",
        "object_cols = [\"SeniorCitizen\"] + object_cols\n",
        "\n",
        "for col in object_cols:\n",
        "  plt.figure(figsize=(5, 3))\n",
        "  sns.countplot(x=df[col])\n",
        "  plt.title(f\"Count Plot of {col}\")\n",
        "  plt.show()"
      ]
    },
    {
      "cell_type": "markdown",
      "metadata": {
        "id": "ujfVkNdGmDGm"
      },
      "source": [
        "\n",
        "4. Data Preprocessing\n",
        "\n",
        "\n"
      ]
    },
    {
      "cell_type": "code",
      "execution_count": null,
      "metadata": {
        "colab": {
          "base_uri": "https://localhost:8080/",
          "height": 198
        },
        "id": "muLW8ys2ldTM",
        "outputId": "cc24adfa-5e1c-49ea-f7f8-89633132fd66"
      },
      "outputs": [],
      "source": [
        "df.head(3)"
      ]
    },
    {
      "cell_type": "markdown",
      "metadata": {
        "id": "EBUQblqTmJ_7"
      },
      "source": [
        "Label encoding of target column"
      ]
    },
    {
      "cell_type": "code",
      "execution_count": null,
      "metadata": {
        "colab": {
          "base_uri": "https://localhost:8080/"
        },
        "id": "youL38jXmHoW",
        "outputId": "3f6223ec-7d46-43ef-ac87-0125a3b596ef"
      },
      "outputs": [],
      "source": [
        "df[\"Churn\"] = df[\"Churn\"].replace({\"Yes\": 1, \"No\": 0})"
      ]
    },
    {
      "cell_type": "code",
      "execution_count": null,
      "metadata": {
        "colab": {
          "base_uri": "https://localhost:8080/",
          "height": 198
        },
        "id": "S8oMFqhGmHdc",
        "outputId": "2914fd13-a34d-4022-fa00-88ca084ae3fe"
      },
      "outputs": [],
      "source": [
        "df.head(3)"
      ]
    },
    {
      "cell_type": "code",
      "execution_count": null,
      "metadata": {
        "colab": {
          "base_uri": "https://localhost:8080/"
        },
        "id": "H99IZQZemHRl",
        "outputId": "b06eacf6-6e80-470a-d73a-6407786999c1"
      },
      "outputs": [],
      "source": [
        "\n",
        "print(df[\"Churn\"].value_counts())"
      ]
    },
    {
      "cell_type": "markdown",
      "metadata": {
        "id": "fSV_PS5GmZTQ"
      },
      "source": [
        "Label encoding of categorical fetaures"
      ]
    },
    {
      "cell_type": "code",
      "execution_count": null,
      "metadata": {
        "id": "8Z6pybWOmWwV"
      },
      "outputs": [],
      "source": [
        "# identifying columns with object data type\n",
        "object_columns = df.select_dtypes(include=\"object\").columns"
      ]
    },
    {
      "cell_type": "code",
      "execution_count": null,
      "metadata": {
        "colab": {
          "base_uri": "https://localhost:8080/"
        },
        "id": "CR4TarewmWlA",
        "outputId": "08286f4a-7484-4cc2-eb9e-ec92a31ed770"
      },
      "outputs": [],
      "source": [
        "print(object_columns)"
      ]
    },
    {
      "cell_type": "code",
      "execution_count": null,
      "metadata": {
        "id": "dsrqWa_5mWax"
      },
      "outputs": [],
      "source": [
        "# initialize a dictionary to save the encoders\n",
        "encoders = {}\n",
        "\n",
        "# apply label encoding and store the encoders\n",
        "for column in object_columns:\n",
        "  label_encoder = LabelEncoder()\n",
        "  df[column] = label_encoder.fit_transform(df[column])\n",
        "  encoders[column] = label_encoder\n",
        "\n",
        "\n",
        "# save the encoders to a pickle file\n",
        "with open(\"encoders.pkl\", \"wb\") as f:\n",
        "  pickle.dump(encoders, f)"
      ]
    },
    {
      "cell_type": "code",
      "execution_count": null,
      "metadata": {
        "colab": {
          "base_uri": "https://localhost:8080/"
        },
        "id": "0w35TLxOmkQ_",
        "outputId": "aeb78287-9562-43af-81e7-9da38748d5ce"
      },
      "outputs": [],
      "source": [
        "encoders"
      ]
    },
    {
      "cell_type": "code",
      "execution_count": null,
      "metadata": {
        "colab": {
          "base_uri": "https://localhost:8080/",
          "height": 226
        },
        "id": "ThI6hU9dmkLC",
        "outputId": "338acea5-ab3a-4657-9be1-097d6c84cc34"
      },
      "outputs": [],
      "source": [
        "df.head()"
      ]
    },
    {
      "cell_type": "markdown",
      "metadata": {
        "id": "zaXrrszRmuVV"
      },
      "source": [
        "Traianing and test data split"
      ]
    },
    {
      "cell_type": "code",
      "execution_count": null,
      "metadata": {
        "id": "9vb2ey1ymkBn"
      },
      "outputs": [],
      "source": [
        "# splitting the features and target\n",
        "X = df.drop(columns=[\"Churn\"])\n",
        "y = df[\"Churn\"]"
      ]
    },
    {
      "cell_type": "code",
      "execution_count": null,
      "metadata": {
        "id": "wQdc_g9MmoEe"
      },
      "outputs": [],
      "source": [
        "# split training and test data\n",
        "X_train, X_test, y_train, y_test = train_test_split(X, y, test_size=0.2, random_state=42)"
      ]
    },
    {
      "cell_type": "code",
      "execution_count": null,
      "metadata": {
        "colab": {
          "base_uri": "https://localhost:8080/"
        },
        "id": "afEH15oXmoBV",
        "outputId": "eb84b598-9273-4de3-caf2-08e3e0f4f6a3"
      },
      "outputs": [],
      "source": [
        "print(y_train.shape)"
      ]
    },
    {
      "cell_type": "code",
      "execution_count": null,
      "metadata": {
        "colab": {
          "base_uri": "https://localhost:8080/"
        },
        "id": "3v8yHy6Omn-L",
        "outputId": "c39d90df-9517-4315-d0d4-8af04f039711"
      },
      "outputs": [],
      "source": [
        "print(y_train.value_counts())"
      ]
    },
    {
      "cell_type": "markdown",
      "metadata": {
        "id": "25KeQv4inG3w"
      },
      "source": [
        "Synthetic Minority Oversampling TEchnique (SMOTE)"
      ]
    },
    {
      "cell_type": "code",
      "execution_count": null,
      "metadata": {
        "id": "eIVVPgnAnAth"
      },
      "outputs": [],
      "source": [
        "smote = SMOTE(random_state=42)"
      ]
    },
    {
      "cell_type": "code",
      "execution_count": null,
      "metadata": {
        "id": "Zoi4zvlEnAqR"
      },
      "outputs": [],
      "source": [
        "X_train_smote, y_train_smote = smote.fit_resample(X_train, y_train)"
      ]
    },
    {
      "cell_type": "code",
      "execution_count": null,
      "metadata": {
        "colab": {
          "base_uri": "https://localhost:8080/"
        },
        "id": "IqPmqsVTnAm2",
        "outputId": "fe1b8602-e386-45e9-eb25-ba4594098ee5"
      },
      "outputs": [],
      "source": [
        "print(y_train_smote.shape)"
      ]
    },
    {
      "cell_type": "code",
      "execution_count": null,
      "metadata": {
        "colab": {
          "base_uri": "https://localhost:8080/"
        },
        "id": "1rUCsI2OnUmW",
        "outputId": "8d0173da-f95b-4bcb-8132-45188c13301d"
      },
      "outputs": [],
      "source": [
        "print(y_train_smote.value_counts())"
      ]
    },
    {
      "cell_type": "markdown",
      "metadata": {
        "id": "lJlzBr2mnaU2"
      },
      "source": [
        "5. Model Training"
      ]
    },
    {
      "cell_type": "markdown",
      "metadata": {
        "id": "e1NdEJBrngil"
      },
      "source": [
        "Training with default hyperparameters"
      ]
    },
    {
      "cell_type": "code",
      "execution_count": null,
      "metadata": {
        "id": "-Ra-WGU5nUip"
      },
      "outputs": [],
      "source": [
        "# dictionary of models\n",
        "models = {\n",
        "    \"Decision Tree\": DecisionTreeClassifier(random_state=42),\n",
        "    \"Random Forest\": RandomForestClassifier(random_state=42),\n",
        "    \"XGBoost\": XGBClassifier(random_state=42)\n",
        "}"
      ]
    },
    {
      "cell_type": "code",
      "execution_count": null,
      "metadata": {
        "colab": {
          "base_uri": "https://localhost:8080/"
        },
        "id": "yzMvoJ8lnUfo",
        "outputId": "3f2ea3b9-e864-4002-8937-73b0915cd05f"
      },
      "outputs": [],
      "source": [
        "# dictionary to store the cross validation results\n",
        "cv_scores = {}\n",
        "\n",
        "# perform 5-fold cross validation for each model\n",
        "for model_name, model in models.items():\n",
        "  print(f\"Training {model_name} with default parameters\")\n",
        "  scores = cross_val_score(model, X_train_smote, y_train_smote, cv=5, scoring=\"accuracy\")\n",
        "  cv_scores[model_name] = scores\n",
        "  print(f\"{model_name} cross-validation accuracy: {np.mean(scores):.2f}\")\n",
        "  print(\"-\"*70)"
      ]
    },
    {
      "cell_type": "code",
      "execution_count": null,
      "metadata": {
        "colab": {
          "base_uri": "https://localhost:8080/"
        },
        "id": "TyzJXZ6rnUcC",
        "outputId": "5f6e1456-8c38-443f-c4ae-81b962dfedfb"
      },
      "outputs": [],
      "source": [
        "cv_scores"
      ]
    },
    {
      "cell_type": "markdown",
      "metadata": {
        "id": "rSryEgq_nwaM"
      },
      "source": [
        "Random Forest gives the highest accuracy compared to other models with default parameters"
      ]
    },
    {
      "cell_type": "code",
      "execution_count": null,
      "metadata": {
        "id": "jRCuUecYntO0"
      },
      "outputs": [],
      "source": [
        "rfc = RandomForestClassifier(random_state=42)"
      ]
    },
    {
      "cell_type": "code",
      "execution_count": null,
      "metadata": {
        "colab": {
          "base_uri": "https://localhost:8080/",
          "height": 80
        },
        "id": "bL9T4jQJntLS",
        "outputId": "8c5d5518-dfc4-4030-9fbc-c9f7d076d69d"
      },
      "outputs": [],
      "source": [
        "rfc.fit(X_train_smote, y_train_smote)"
      ]
    },
    {
      "cell_type": "code",
      "execution_count": null,
      "metadata": {
        "colab": {
          "base_uri": "https://localhost:8080/"
        },
        "id": "BQQjfesbntHo",
        "outputId": "c36178ba-5403-45c9-8721-41a05985d299"
      },
      "outputs": [],
      "source": [
        "print(y_test.value_counts())"
      ]
    },
    {
      "cell_type": "markdown",
      "metadata": {
        "id": "hinJvxWcoEia"
      },
      "source": [
        "6. Model Evaluation"
      ]
    },
    {
      "cell_type": "code",
      "execution_count": null,
      "metadata": {
        "colab": {
          "base_uri": "https://localhost:8080/"
        },
        "id": "UjFtvvKuoFqW",
        "outputId": "e11356c3-dc07-43dd-f142-117bf45b6a05"
      },
      "outputs": [],
      "source": [
        "# evaluate on test data\n",
        "y_test_pred = rfc.predict(X_test)\n",
        "\n",
        "print(\"Accuracy Score:\\n\", accuracy_score(y_test, y_test_pred))\n",
        "print(\"Confsuion Matrix:\\n\", confusion_matrix(y_test, y_test_pred))\n",
        "print(\"Classification Report:\\n\", classification_report(y_test, y_test_pred))"
      ]
    },
    {
      "cell_type": "code",
      "execution_count": null,
      "metadata": {
        "id": "eWIe7cMooMvJ"
      },
      "outputs": [],
      "source": [
        "# save the trained model as a pickle file\n",
        "model_data = {\"model\": rfc, \"features_names\": X.columns.tolist()}\n",
        "\n",
        "\n",
        "with open(\"customer_churn_model.pkl\", \"wb\") as f:\n",
        "  pickle.dump(model_data, f)"
      ]
    },
    {
      "cell_type": "markdown",
      "metadata": {
        "id": "j3Y9XIWcoVWe"
      },
      "source": [
        "7. Load the saved model and build a Predictive System"
      ]
    },
    {
      "cell_type": "code",
      "execution_count": null,
      "metadata": {
        "id": "Ab0kNl2noSdk"
      },
      "outputs": [],
      "source": [
        "# load teh saved model and the feature names\n",
        "\n",
        "with open(\"customer_churn_model.pkl\", \"rb\") as f:\n",
        "  model_data = pickle.load(f)\n",
        "\n",
        "loaded_model = model_data[\"model\"]\n",
        "feature_names = model_data[\"features_names\"]"
      ]
    },
    {
      "cell_type": "code",
      "execution_count": null,
      "metadata": {
        "colab": {
          "base_uri": "https://localhost:8080/"
        },
        "id": "A6kum9FJoSaI",
        "outputId": "bf35ad56-72f5-44c1-ec84-e85132aa6e39"
      },
      "outputs": [],
      "source": [
        "print(loaded_model)"
      ]
    },
    {
      "cell_type": "code",
      "execution_count": null,
      "metadata": {
        "colab": {
          "base_uri": "https://localhost:8080/"
        },
        "id": "8d-RAejIoSUS",
        "outputId": "c0d7c923-4ec3-4f01-adc4-3c30afa35278"
      },
      "outputs": [],
      "source": [
        "print(feature_names)"
      ]
    },
    {
      "cell_type": "code",
      "execution_count": null,
      "metadata": {
        "colab": {
          "base_uri": "https://localhost:8080/"
        },
        "id": "mgQQRKttoSQG",
        "outputId": "f362e999-ed8f-440b-c9f0-f0a81973921f"
      },
      "outputs": [],
      "source": [
        "input_data = {\n",
        "    'gender': 'Female',\n",
        "    'SeniorCitizen': 0,\n",
        "    'Partner': 'Yes',\n",
        "    'Dependents': 'No',\n",
        "    'tenure': 1,\n",
        "    'PhoneService': 'No',\n",
        "    'MultipleLines': 'No phone service',\n",
        "    'InternetService': 'DSL',\n",
        "    'OnlineSecurity': 'No',\n",
        "    'OnlineBackup': 'Yes',\n",
        "    'DeviceProtection': 'No',\n",
        "    'TechSupport': 'No',\n",
        "    'StreamingTV': 'No',\n",
        "    'StreamingMovies': 'No',\n",
        "    'Contract': 'Month-to-month',\n",
        "    'PaperlessBilling': 'Yes',\n",
        "    'PaymentMethod': 'Electronic check',\n",
        "    'MonthlyCharges': 29.85,\n",
        "    'TotalCharges': 29.85\n",
        "}\n",
        "\n",
        "\n",
        "input_data_df = pd.DataFrame([input_data])\n",
        "\n",
        "with open(\"encoders.pkl\", \"rb\") as f:\n",
        "  encoders = pickle.load(f)\n",
        "\n",
        "\n",
        "# encode categorical featires using teh saved encoders\n",
        "for column, encoder in encoders.items():\n",
        "  input_data_df[column] = encoder.transform(input_data_df[column])\n",
        "\n",
        "# make a prediction\n",
        "prediction = loaded_model.predict(input_data_df)\n",
        "pred_prob = loaded_model.predict_proba(input_data_df)\n",
        "\n",
        "print(prediction)\n",
        "\n",
        "# results\n",
        "print(f\"Prediction: {'Churn' if prediction[0] == 1 else 'No Churn'}\")\n",
        "print(f\"Prediciton Probability: {pred_prob}\")"
      ]
    },
    {
      "cell_type": "code",
      "execution_count": null,
      "metadata": {
        "colab": {
          "base_uri": "https://localhost:8080/"
        },
        "id": "NL_bykFzoupe",
        "outputId": "9aec272b-fb7d-417a-bd4d-5d396c39a088"
      },
      "outputs": [],
      "source": [
        "encoders"
      ]
    },
    {
      "cell_type": "code",
      "execution_count": null,
      "metadata": {
        "id": "BPwVpB2xouXD"
      },
      "outputs": [],
      "source": []
    }
  ],
  "metadata": {
    "colab": {
      "provenance": []
    },
    "kernelspec": {
      "display_name": "Python 3",
      "name": "python3"
    },
    "language_info": {
      "name": "python",
      "version": "3.10.10"
    }
  },
  "nbformat": 4,
  "nbformat_minor": 0
}
